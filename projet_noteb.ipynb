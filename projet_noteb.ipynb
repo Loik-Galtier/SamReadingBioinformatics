{
 "cells": [
  {
   "cell_type": "code",
   "metadata": {
    "jupyter": {
     "is_executing": true
    }
   },
   "source": [
    "import csv\n",
    "import sys\n",
    "import os \n",
    "import re\n",
    "import matplotlib.pyplot as plt\n",
    "from collections import Counter"
   ],
   "outputs": [],
   "execution_count": null
  },
  {
   "cell_type": "code",
   "execution_count": 112,
   "metadata": {},
   "outputs": [],
   "source": [
    "def sam_reading(sam_file_path):\n",
    "# Ouvrir le fichier SAM\n",
    "    with open(sam_file_path, \"r\") as sam_file:\n",
    "        # Initialiser le lecteur CSV (camma seperated values) avec le délimiteur de tabulation car le fichier SAM est séparé par des tabulations\n",
    "        sam_reader = csv.reader(sam_file, delimiter='\\t')\n",
    "        \n",
    "        # Parcourir chaque ligne du fichier SAM\n",
    "        flags=[] #list\n",
    "        quals=[]\n",
    "        maps_score=[]\n",
    "        coverage={} #dictionnaire\n",
    "        # Pour chaque ligne de mon fichier SAM \n",
    "        for row in sam_reader:\n",
    "            # Ignorer les lignes d'en-tête qui commencent par '@'\n",
    "            if row[0].startswith(\"@\"):\n",
    "                continue\n",
    "            \n",
    "            # Accéder aux informations de chaque colonne\n",
    "            qname = row[0]    # Nom du read\n",
    "            flag = int(row[1]) # Flag\n",
    "            flags.append(flag) # rajouter le flag de chaque ligne dans la liste\n",
    "            rname = row[2]    # Nom de la séquence de référence\n",
    "            start_pos = int(row[3])  # Position de début de l'alignement\n",
    "            mapq = int(row[4]) # Qualité de l'alignement\n",
    "            maps_score.append(mapq)\n",
    "            cigar = row[5]    # Chaîne CIGAR\n",
    "            rnext = row[6]    # Référence du read suivant dans le cas des paires\n",
    "            pnext = int(row[7]) # Position du read suivant dans le cas des paires\n",
    "            tlen = int(row[8]) # Longueur du fragment pour les paires\n",
    "            seq = row[9]      # Séquence de l'ADN\n",
    "            seq_length = len(seq)\n",
    "            qual = row[10]    # Qualité de chaque base dans la séquence\n",
    "            quals.append(qual) # rajouter la qual de chaque ligne dans la liste\n",
    "\n",
    "            # pour la question 3 localisation des reads sur la séquence \n",
    "\n",
    "            for pos in range(start_pos, start_pos + seq_length):\n",
    "                if pos in coverage:\n",
    "                    coverage[pos] += 1\n",
    "                else:\n",
    "                    coverage[pos] = 1\n",
    "\n",
    "            # Afficher les informations du read\n",
    "            #print(f\"QNAME: {qname}, FLAG: {flag}, RNAME: {rname}, POS: {pos}, CIGAR: {cigar}, SEQ: {seq}\")\n",
    "    return flags, quals, coverage, maps_score\n"
   ]
  },
  {
   "cell_type": "markdown",
   "metadata": {},
   "source": [
    "Question 1"
   ]
  },
  {
   "cell_type": "code",
   "execution_count": 113,
   "metadata": {},
   "outputs": [],
   "source": [
    "# Je définie une fonction nommée flags_to_binary pour convertir le flag en binaire parceque le flag contient les infos en bit \n",
    "def flags_to_binary(flag_size, flags):\n",
    "    # Boucle qui va parcourir de 0 à la taille des flags-1\n",
    "    for i in range(len(flags)):\n",
    "        flags[i]=bin(flags[i])\n",
    "        # Éliminer les 2 premiers caractères du flag (0 et b) & les remplir de 0 sur la gauche -> atteindre la taille souhaitée\n",
    "        flags[i]=flags[i][2:].zfill(flag_size)\n",
    "        # Faire retourner une liste de flag transformée en binaire\n",
    "    return flags\n",
    "        "
   ]
  },
  {
   "cell_type": "code",
   "execution_count": 114,
   "metadata": {},
   "outputs": [],
   "source": [
    "\n",
    "# Je définie une fonction nommée number_of_mapped_reads qui prend en paramètre la taille des flags et les flags en binaire\n",
    "def number_of_mapped_reads (flag_size, binary_flags):\n",
    "    mapped_reads = []\n",
    "    flag_size = flag_size - 1\n",
    "    nbr = 0\n",
    "    for i in range(len(binary_flags)):\n",
    "        # Mettre le flag en binaire de la ligne en question (i) dans la variable flag\n",
    "        flag=binary_flags[i]\n",
    "        # le bit 2 code pour l'info \"read mappé ou pas\", donc on soustrait le chiffre 2 de la taille du flag (12-1=11). Si \"0\" = mappé \n",
    "        if (flag[flag_size-2] == \"0\"):\n",
    "        # Rajouter 1 pour compter le nombre de read\n",
    "            nbr = nbr + 1\n",
    "            mapped_reads.append(i)\n",
    "    print (\"J'ai\", nbr, \"read mappés\")\n",
    "    return mapped_reads\n"
   ]
  },
  {
   "cell_type": "markdown",
   "metadata": {},
   "source": [
    "Question 2"
   ]
  },
  {
   "cell_type": "code",
   "execution_count": 115,
   "metadata": {},
   "outputs": [],
   "source": [
    "def mapped_sur_brin_complementaire (flag_size, binary_flags):\n",
    "    flag_size = flag_size - 1\n",
    "    nbr = 0\n",
    "    for i in range(len(binary_flags)):\n",
    "        flag=binary_flags[i]\n",
    "        if (flag[flag_size-4] == \"1\"):\n",
    "            nbr = nbr + 1\n",
    "    print (\"J'ai\", nbr, \"read mappés sur le brin complémentaire\")"
   ]
  },
  {
   "cell_type": "code",
   "execution_count": 116,
   "metadata": {},
   "outputs": [],
   "source": [
    "def premier_de_la_paire (flag_size, binary_flags):\n",
    "    flag_size = flag_size - 1\n",
    "    nbr = 0\n",
    "    for i in range(len(binary_flags)):\n",
    "        flag=binary_flags[i]\n",
    "        # Les 2 conditions doivent être VRAI; la 1ère pour dire si le read est le 1er de la paire & la 2ème pour s'assurer que c une paire\n",
    "        if ((flag[flag_size-6] == \"1\") and flag[flag_size-0] == \"1\"):\n",
    "            nbr = nbr + 1\n",
    "    print (\"J'ai\", nbr, \"read qui sont les premiers de la paire\")"
   ]
  },
  {
   "cell_type": "code",
   "execution_count": 117,
   "metadata": {},
   "outputs": [],
   "source": [
    "def second_de_la_paire (flag_size, binary_flags):\n",
    "    flag_size = flag_size - 1\n",
    "    nbr = 0\n",
    "    for i in range(len(binary_flags)):\n",
    "        flag=binary_flags[i]\n",
    "        # Les 2 conditions doivent être VRAI; la 1ère pour dire si le read est le 2ème de la paire & la 2ème pour s'assurer que c une paire\n",
    "        if ((flag[flag_size-7] == \"1\") and flag[flag_size-0] == \"1\"):\n",
    "            nbr = nbr + 1\n",
    "    print (\"J'ai\", nbr, \"read qui sont les seconds de la paire\")\n"
   ]
  },
  {
   "cell_type": "markdown",
   "metadata": {},
   "source": [
    "Question 3 qui est la position des reads"
   ]
  },
  {
   "cell_type": "code",
   "execution_count": 118,
   "metadata": {},
   "outputs": [],
   "source": [
    "def read_positions (coverage):\n",
    "   \n",
    "    positions = sorted(coverage.keys())\n",
    "    coverages = [coverage[pos] for pos in positions]\n",
    "\n",
    "    #Afficher un graphique de la couverture\n",
    "    plt.figure(figsize=(10, 5))\n",
    "    plt.plot(positions, coverages, label=\"Couverture\")\n",
    "    plt.xlabel(\"Position sur la séquence de référence\")\n",
    "    plt.ylabel(\"Nombre de reads (couverture)\")\n",
    "    plt.title(\"Couverture des reads le long de la séquence de référence\")\n",
    "    plt.legend()\n",
    "    plt.show()"
   ]
  },
  {
   "cell_type": "markdown",
   "metadata": {},
   "source": [
    "Question 4"
   ]
  },
  {
   "metadata": {
    "jupyter": {
     "is_executing": true
    }
   },
   "cell_type": "code",
   "outputs": [],
   "execution_count": null,
   "source": [
    "def mapping_quality (maps_score):\n",
    "    # La fonction Counter crée un dictionnaire avec chaque valeur de qualité qui est associé au nombre de reads\n",
    "    mapq_counts = Counter(maps_score)\n",
    "    \n",
    "    print(mapq_counts)\n",
    "\n",
    "    # défintion du seuil à 30\n",
    "\n",
    "    seuil_mapq = 30\n",
    "    read_quality_greater_30 = []\n",
    "\n",
    "    for i in range(len(maps_score)):\n",
    "        if (maps_score[i] > 30):\n",
    "            read_quality_greater_30.append(i)\n",
    "\n",
    "    return read_quality_greater_30\n"
   ]
  },
  {
   "cell_type": "markdown",
   "metadata": {},
   "source": [
    "Filtrage des reads avec les reads qui sont compètement mappé et qui ont un score "
   ]
  },
  {
   "cell_type": "code",
   "execution_count": 120,
   "metadata": {},
   "outputs": [],
   "source": [
    "def filtred_reads (mapped_reads, read_quality_greater_30, sam_file_path):\n",
    "\n",
    "    filtred_sam_file = \"filtred_reads.sam\"\n",
    "    filtered_indices = set(mapped_reads).intersection(read_quality_greater_30)\n",
    "\n",
    "    with open(sam_file_path, \"r\") as sam_file, open(filtred_sam_file, \"w\", newline='') as output_file:\n",
    "        # Initialiser le lecteur CSV (camma seperated values) avec le délimiteur de tabulation car le fichier SAM est séparé par des tabulations\n",
    "        sam_reader = csv.reader(sam_file, delimiter='\\t')\n",
    "        output_writer = csv.writer(output_file, delimiter='\\t')\n",
    "\n",
    "        for index, row in enumerate(sam_reader):\n",
    "        # Conserver les lignes d'en-tête (commencent par '@')\n",
    "            if row[0].startswith(\"@\"):\n",
    "                output_writer.writerow(row)\n",
    "                continue\n",
    "\n",
    "            # Si l'index du read est dans l'intersection des deux listes, on l'ajoute au fichier de sortie\n",
    "            if index in filtered_indices:\n",
    "                output_writer.writerow(row)"
   ]
  },
  {
   "cell_type": "code",
   "execution_count": 122,
   "metadata": {},
   "outputs": [
    {
     "name": "stdout",
     "output_type": "stream",
     "text": [
      "J'ai 350015 read mappés\n",
      "J'ai 175008 read mappés sur le brin complémentaire\n",
      "J'ai 175665 read qui sont les premiers de la paire\n",
      "J'ai 175665 read qui sont les seconds de la paire\n"
     ]
    },
    {
     "data": {
      "image/png": "[encoded data removed]",
      "text/plain": [
       "<Figure size 1000x500 with 1 Axes>"
      ]
     },
     "metadata": {},
     "output_type": "display_data"
    },
    {
     "name": "stdout",
     "output_type": "stream",
     "text": [
      "Counter({60: 301109, 0: 34800, 40: 2893, 27: 2650, 50: 2389, 25: 2285, 48: 932, 24: 670, 55: 494, 47: 456, 49: 405, 57: 380, 45: 264, 39: 178, 43: 137, 52: 132, 33: 100, 54: 97, 42: 76, 37: 74, 9: 74, 15: 72, 13: 72, 3: 70, 19: 62, 31: 60, 7: 55, 46: 54, 1: 54, 21: 51, 51: 30, 44: 28, 30: 23, 53: 21, 36: 20, 18: 16, 6: 15, 12: 8, 38: 6, 41: 4, 23: 4, 59: 2, 11: 2, 34: 2, 10: 1, 26: 1, 28: 1, 35: 1})\n"
     ]
    }
   ],
   "source": [
    "sam_file_path = \"/Users/aichaeljai/Desktop/projet_mapping/mapping.sam\"\n",
    "flag_size = 12\n",
    "# J'appelle la fonction sam_reading qui prend en paramètre le chemin et qui me retourne les flags et les quals\n",
    "flags, quals, coverage, maps_score = sam_reading(sam_file_path)\n",
    "binary_flags = flags_to_binary(flag_size ,flags)\n",
    "mapped_reads = number_of_mapped_reads(flag_size, binary_flags)\n",
    "mapped_sur_brin_complementaire(flag_size, binary_flags)\n",
    "premier_de_la_paire(flag_size, binary_flags)\n",
    "second_de_la_paire(flag_size, binary_flags)\n",
    "read_positions(coverage)\n",
    "read_quality_greater_30 = mapping_quality(maps_score)\n",
    "filtred_reads(mapped_reads, read_quality_greater_30, sam_file_path)\n",
    "\n",
    "\n",
    "# Enregistrer les qualitès dans un fichier texte avec une en-tête et 'w' pour modifier le fichier\n",
    "with open(\"quals_output.txt\", \"w\") as output_file:\n",
    "    # Écrire l'en-tête en sautant une ligne avec \\n\n",
    "    output_file.write(\"Les qualitès\\n\")\n",
    "    \n",
    "    # Écrire chaque flag dans une nouvelle ligne\n",
    "    for qual in quals:\n",
    "        output_file.write(f\"{qual}\\n\")"
   ]
  },
  {
   "cell_type": "markdown",
   "metadata": {},
   "source": [
    "En observant le graphique de couverture, on peut voir les caractéristiques suivantes :\n",
    "\n",
    "Pic initial élevé : Il y a un pic très marqué au début de la séquence (position proche de 0) avec une couverture supérieure à 1200. Cela signifie qu'il y a une forte accumulation de reads alignés au tout début de la séquence de référence. Ce type de pic peut être dû à plusieurs raisons, comme un biais dans la préparation de la bibliothèque ou une région répétitive dans le génome qui attire de nombreux alignements.\n",
    "Couverture faible et stable après le pic : Après ce pic initial, la couverture reste relativement basse et constante le long de la séquence. Cette région semble bien couverte mais sans accumulation importante. Cela indique que l'alignement des reads est plus ou moins uniforme, sauf pour le pic au début.\n",
    "Absence de grandes variations : Hormis le pic initial, la couverture est assez homogène. Cela suggère que la couverture des reads est régulière, avec des petites fluctuations, mais sans zones de forte ou faible couverture.\n",
    "Interprétation\n",
    "Alignement non homogène : Ce graphique indique que l'alignement n'est pas complètement homogène, en raison du pic au début de la séquence. Cependant, après ce pic, l'alignement semble assez régulier.\n",
    "Possibilité de biais de séquençage : Le pic au début peut résulter d'un biais dans le séquençage ou d'une région répétitive dans le génome qui attire les alignements.\n",
    "Utilisation du pic pour investigation : Vous pourriez enquêter sur cette région pour vérifier s'il y a des séquences répétées ou des artefacts de séquençage.\n",
    "Si ce pic n'est pas souhaité (c'est-à-dire qu'il représente du bruit ou un biais technique), vous pourriez le filtrer ou l'ignorer dans vos analyses pour obtenir une couverture plus représentative du reste de la séquence.\n",
    "\n",
    "\n",
    "\n",
    "\n",
    "\n",
    "\n"
   ]
  },
  {
   "cell_type": "markdown",
   "metadata": {},
   "source": []
  }
 ],
 "metadata": {
  "kernelspec": {
   "display_name": "Python 3",
   "language": "python",
   "name": "python3"
  },
  "language_info": {
   "codemirror_mode": {
    "name": "ipython",
    "version": 3
   },
   "file_extension": ".py",
   "mimetype": "text/x-python",
   "name": "python",
   "nbconvert_exporter": "python",
   "pygments_lexer": "ipython3",
   "version": "3.12.2"
  }
 },
 "nbformat": 4,
 "nbformat_minor": 2
}
